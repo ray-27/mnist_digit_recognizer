{
 "cells": [
  {
   "cell_type": "code",
   "execution_count": 1,
   "metadata": {},
   "outputs": [],
   "source": [
    "import numpy as np\n",
    "import pandas as pd\n",
    "import matplotlib.pyplot as plt\n",
    "from tqdm import tqdm\n",
    "import torch"
   ]
  },
  {
   "cell_type": "markdown",
   "metadata": {},
   "source": [
    "## Importing data and refining it"
   ]
  },
  {
   "cell_type": "code",
   "execution_count": 7,
   "metadata": {},
   "outputs": [],
   "source": [
    "data = pd.read_csv('dataset/train.csv')\n",
    "y = data.pop('label')\n",
    "X = data"
   ]
  },
  {
   "cell_type": "code",
   "execution_count": 11,
   "metadata": {},
   "outputs": [
    {
     "name": "stdout",
     "output_type": "stream",
     "text": [
      "Columns with NaN values:\n",
      "[]\n"
     ]
    }
   ],
   "source": [
    "nan_values = X.isna().any()\n",
    "print(\"Columns with NaN values:\")\n",
    "print(nan_values[nan_values].index.tolist())"
   ]
  },
  {
   "cell_type": "code",
   "execution_count": 14,
   "metadata": {},
   "outputs": [],
   "source": [
    "# converting the data to tensor\n",
    "X = torch.Tensor(np.array(X))\n",
    "y = torch.Tensor(y)"
   ]
  },
  {
   "cell_type": "code",
   "execution_count": 140,
   "metadata": {},
   "outputs": [],
   "source": [
    "\n",
    "def find_optimal_dim(n): #returns dimensions as a,b (a < b)\n",
    "    # n is the number of graphs to be plotted\n",
    "    \n",
    "    #find factors\n",
    "    factors = []\n",
    "    for i in range(1,n+1):\n",
    "        if(n % i == 0):\n",
    "            factors.append(i)\n",
    "    \n",
    "    #now using two pointer we can find the minimum difference\n",
    "    min_diff = 0\n",
    "\n",
    "    l = len(factors)\n",
    "    mid = l // 2\n",
    "    pointer = mid\n",
    "    while(mid != 0 or mid != l):\n",
    "\n",
    "        val = factors[mid] * factors[pointer]\n",
    "\n",
    "        if(val > n):\n",
    "            pointer -= 1\n",
    "        elif(val < n):\n",
    "            pointer += 1\n",
    "        elif(val == n):\n",
    "            return min(factors[mid],factors[pointer]), max(factors[mid],factors[pointer])\n",
    "\n",
    "\n",
    "    pass\n",
    "\n",
    "\n",
    "#creating a function to print the number on a matplotlib pyplot\n",
    "def show_img(X,y=-1):\n",
    "    \n",
    "    X = X.reshape(28,28)\n",
    "\n",
    "    plt.imshow(X,cmap='gray')\n",
    "    plt.title(y.numpy())\n",
    "\n",
    "    pass\n",
    "\n",
    "\n",
    "def show_multiple_img(X,y,range_max=1):\n",
    "    range_min=0\n",
    "    count = range_max - range_min\n",
    "    n,m = find_optimal_dim(count)\n",
    "    _, axs = plt.subplots(n, m, figsize=(8, 6))\n",
    "    \n",
    "    o = range_min #counter to next picture\n",
    "    for i in range(n):\n",
    "        for j in range(m):\n",
    "\n",
    "            axs[i,j].imshow(X[o].reshape(28,28),cmap='gray')\n",
    "            axs[i,j].set_title(y[o].numpy())\n",
    "            axs[i,j].set_xticklabels([])\n",
    "            axs[i,j].set_yticklabels([])  \n",
    "            o += 1\n",
    "    \n",
    "    plt.show()  \n"
   ]
  },
  {
   "cell_type": "code",
   "execution_count": 141,
   "metadata": {},
   "outputs": [
    {
     "data": {
      "image/png": "[encoded data removed]",
      "text/plain": [
       "<Figure size 800x600 with 12 Axes>"
      ]
     },
     "metadata": {},
     "output_type": "display_data"
    }
   ],
   "source": [
    "show_multiple_img(X,y,12)"
   ]
  },
  {
   "cell_type": "code",
   "execution_count": 135,
   "metadata": {},
   "outputs": [],
   "source": [
    "# Define a custom dataset class\n",
    "from torch.utils.data import Dataset, DataLoader\n",
    "class mnist_dataloader(Dataset):\n",
    "    def __init__(self, data, targets, transform=None):\n",
    "        self.data = data\n",
    "        self.targets = targets\n",
    "        self.transform = transform\n",
    "\n",
    "    def __len__(self):\n",
    "        return len(self.data)\n",
    "\n",
    "    def __getitem__(self, index):\n",
    "        sample = self.data[index]\n",
    "        target = self.targets[index]\n",
    "\n",
    "        # Apply transformations if specified\n",
    "        if self.transform:\n",
    "            sample = self.transform(sample)\n",
    "\n",
    "        return sample, target"
   ]
  },
  {
   "cell_type": "code",
   "execution_count": 137,
   "metadata": {},
   "outputs": [],
   "source": [
    "# using dataloader to process data further \n",
    "mnist_data = mnist_dataloader(X,y)\n",
    "custom_dataloader = DataLoader(mnist_data, batch_size=4, shuffle=True)"
   ]
  },
  {
   "cell_type": "code",
   "execution_count": 139,
   "metadata": {},
   "outputs": [],
   "source": [
    "# Iterate over the data loader\n",
    "for batch_idx, (inputs, targets) in enumerate(custom_dataloader):\n",
    "    # Process the batch\n",
    "    print(\"Batch\", batch_idx)\n",
    "    print(\"Inputs shape:\", inputs.shape)\n",
    "    print(\"Targets shape:\", targets.shape)"
   ]
  },
  {
   "cell_type": "markdown",
   "metadata": {},
   "source": [
    "## Creating a model"
   ]
  },
  {
   "cell_type": "code",
   "execution_count": null,
   "metadata": {},
   "outputs": [],
   "source": [
    "import torch.nn as nn\n",
    "class mnist_model(nn.Module):\n",
    "    def __init__(self):\n",
    "        super(mnist_model, self).__init__()\n",
    "        \n",
    "        "
   ]
  }
 ],
 "metadata": {
  "kernelspec": {
   "display_name": "Python 3",
   "language": "python",
   "name": "python3"
  },
  "language_info": {
   "codemirror_mode": {
    "name": "ipython",
    "version": 3
   },
   "file_extension": ".py",
   "mimetype": "text/x-python",
   "name": "python",
   "nbconvert_exporter": "python",
   "pygments_lexer": "ipython3",
   "version": "3.9.10"
  }
 },
 "nbformat": 4,
 "nbformat_minor": 2
}
