{
 "cells": [
  {
   "cell_type": "code",
   "execution_count": 1,
   "id": "fa66fcc2",
   "metadata": {
    "_cell_guid": "249f3c5e-44cd-43b6-a13d-8de790e06217",
    "_uuid": "488a0aef-c7c4-414d-a735-5ce12da5c8ef",
    "collapsed": false,
    "execution": {
     "iopub.execute_input": "2024-04-04T12:31:58.886546Z",
     "iopub.status.busy": "2024-04-04T12:31:58.886123Z",
     "iopub.status.idle": "2024-04-04T12:31:59.663565Z",
     "shell.execute_reply": "2024-04-04T12:31:59.662703Z"
    },
    "jupyter": {
     "outputs_hidden": false
    },
    "papermill": {
     "duration": 0.791484,
     "end_time": "2024-04-04T12:31:59.666494",
     "exception": false,
     "start_time": "2024-04-04T12:31:58.875010",
     "status": "completed"
    },
    "tags": []
   },
   "outputs": [],
   "source": [
    "import numpy as np\n",
    "import pandas as pd"
   ]
  },
  {
   "cell_type": "markdown",
   "id": "82e289ef",
   "metadata": {
    "papermill": {
     "duration": 0.008799,
     "end_time": "2024-04-04T12:31:59.684512",
     "exception": false,
     "start_time": "2024-04-04T12:31:59.675713",
     "status": "completed"
    },
    "tags": []
   },
   "source": [
    "# Loading the data "
   ]
  },
  {
   "cell_type": "code",
   "execution_count": 2,
   "id": "d13ee025",
   "metadata": {
    "execution": {
     "iopub.execute_input": "2024-04-04T12:31:59.704521Z",
     "iopub.status.busy": "2024-04-04T12:31:59.703747Z",
     "iopub.status.idle": "2024-04-04T12:32:03.472204Z",
     "shell.execute_reply": "2024-04-04T12:32:03.471231Z"
    },
    "papermill": {
     "duration": 3.780971,
     "end_time": "2024-04-04T12:32:03.474657",
     "exception": false,
     "start_time": "2024-04-04T12:31:59.693686",
     "status": "completed"
    },
    "tags": []
   },
   "outputs": [],
   "source": [
    "train_data = pd.read_csv('/kaggle/input/digit-recognizer/train.csv')\n",
    "test_data = train_data.sample(frac=0.2)#pd.read_csv('dataset/test.csv')"
   ]
  },
  {
   "cell_type": "code",
   "execution_count": 3,
   "id": "b1551a32",
   "metadata": {
    "execution": {
     "iopub.execute_input": "2024-04-04T12:32:03.493796Z",
     "iopub.status.busy": "2024-04-04T12:32:03.493457Z",
     "iopub.status.idle": "2024-04-04T12:32:03.517698Z",
     "shell.execute_reply": "2024-04-04T12:32:03.516614Z"
    },
    "papermill": {
     "duration": 0.036903,
     "end_time": "2024-04-04T12:32:03.520407",
     "exception": false,
     "start_time": "2024-04-04T12:32:03.483504",
     "status": "completed"
    },
    "tags": []
   },
   "outputs": [
    {
     "data": {
      "text/html": [
       "<div>\n",
       "<style scoped>\n",
       "    .dataframe tbody tr th:only-of-type {\n",
       "        vertical-align: middle;\n",
       "    }\n",
       "\n",
       "    .dataframe tbody tr th {\n",
       "        vertical-align: top;\n",
       "    }\n",
       "\n",
       "    .dataframe thead th {\n",
       "        text-align: right;\n",
       "    }\n",
       "</style>\n",
       "<table border=\"1\" class=\"dataframe\">\n",
       "  <thead>\n",
       "    <tr style=\"text-align: right;\">\n",
       "      <th></th>\n",
       "      <th>label</th>\n",
       "      <th>pixel0</th>\n",
       "      <th>pixel1</th>\n",
       "      <th>pixel2</th>\n",
       "      <th>pixel3</th>\n",
       "      <th>pixel4</th>\n",
       "      <th>pixel5</th>\n",
       "      <th>pixel6</th>\n",
       "      <th>pixel7</th>\n",
       "      <th>pixel8</th>\n",
       "      <th>...</th>\n",
       "      <th>pixel774</th>\n",
       "      <th>pixel775</th>\n",
       "      <th>pixel776</th>\n",
       "      <th>pixel777</th>\n",
       "      <th>pixel778</th>\n",
       "      <th>pixel779</th>\n",
       "      <th>pixel780</th>\n",
       "      <th>pixel781</th>\n",
       "      <th>pixel782</th>\n",
       "      <th>pixel783</th>\n",
       "    </tr>\n",
       "  </thead>\n",
       "  <tbody>\n",
       "    <tr>\n",
       "      <th>0</th>\n",
       "      <td>1</td>\n",
       "      <td>0</td>\n",
       "      <td>0</td>\n",
       "      <td>0</td>\n",
       "      <td>0</td>\n",
       "      <td>0</td>\n",
       "      <td>0</td>\n",
       "      <td>0</td>\n",
       "      <td>0</td>\n",
       "      <td>0</td>\n",
       "      <td>...</td>\n",
       "      <td>0</td>\n",
       "      <td>0</td>\n",
       "      <td>0</td>\n",
       "      <td>0</td>\n",
       "      <td>0</td>\n",
       "      <td>0</td>\n",
       "      <td>0</td>\n",
       "      <td>0</td>\n",
       "      <td>0</td>\n",
       "      <td>0</td>\n",
       "    </tr>\n",
       "    <tr>\n",
       "      <th>1</th>\n",
       "      <td>0</td>\n",
       "      <td>0</td>\n",
       "      <td>0</td>\n",
       "      <td>0</td>\n",
       "      <td>0</td>\n",
       "      <td>0</td>\n",
       "      <td>0</td>\n",
       "      <td>0</td>\n",
       "      <td>0</td>\n",
       "      <td>0</td>\n",
       "      <td>...</td>\n",
       "      <td>0</td>\n",
       "      <td>0</td>\n",
       "      <td>0</td>\n",
       "      <td>0</td>\n",
       "      <td>0</td>\n",
       "      <td>0</td>\n",
       "      <td>0</td>\n",
       "      <td>0</td>\n",
       "      <td>0</td>\n",
       "      <td>0</td>\n",
       "    </tr>\n",
       "    <tr>\n",
       "      <th>2</th>\n",
       "      <td>1</td>\n",
       "      <td>0</td>\n",
       "      <td>0</td>\n",
       "      <td>0</td>\n",
       "      <td>0</td>\n",
       "      <td>0</td>\n",
       "      <td>0</td>\n",
       "      <td>0</td>\n",
       "      <td>0</td>\n",
       "      <td>0</td>\n",
       "      <td>...</td>\n",
       "      <td>0</td>\n",
       "      <td>0</td>\n",
       "      <td>0</td>\n",
       "      <td>0</td>\n",
       "      <td>0</td>\n",
       "      <td>0</td>\n",
       "      <td>0</td>\n",
       "      <td>0</td>\n",
       "      <td>0</td>\n",
       "      <td>0</td>\n",
       "    </tr>\n",
       "    <tr>\n",
       "      <th>3</th>\n",
       "      <td>4</td>\n",
       "      <td>0</td>\n",
       "      <td>0</td>\n",
       "      <td>0</td>\n",
       "      <td>0</td>\n",
       "      <td>0</td>\n",
       "      <td>0</td>\n",
       "      <td>0</td>\n",
       "      <td>0</td>\n",
       "      <td>0</td>\n",
       "      <td>...</td>\n",
       "      <td>0</td>\n",
       "      <td>0</td>\n",
       "      <td>0</td>\n",
       "      <td>0</td>\n",
       "      <td>0</td>\n",
       "      <td>0</td>\n",
       "      <td>0</td>\n",
       "      <td>0</td>\n",
       "      <td>0</td>\n",
       "      <td>0</td>\n",
       "    </tr>\n",
       "    <tr>\n",
       "      <th>4</th>\n",
       "      <td>0</td>\n",
       "      <td>0</td>\n",
       "      <td>0</td>\n",
       "      <td>0</td>\n",
       "      <td>0</td>\n",
       "      <td>0</td>\n",
       "      <td>0</td>\n",
       "      <td>0</td>\n",
       "      <td>0</td>\n",
       "      <td>0</td>\n",
       "      <td>...</td>\n",
       "      <td>0</td>\n",
       "      <td>0</td>\n",
       "      <td>0</td>\n",
       "      <td>0</td>\n",
       "      <td>0</td>\n",
       "      <td>0</td>\n",
       "      <td>0</td>\n",
       "      <td>0</td>\n",
       "      <td>0</td>\n",
       "      <td>0</td>\n",
       "    </tr>\n",
       "  </tbody>\n",
       "</table>\n",
       "<p>5 rows × 785 columns</p>\n",
       "</div>"
      ],
      "text/plain": [
       "   label  pixel0  pixel1  pixel2  pixel3  pixel4  pixel5  pixel6  pixel7  \\\n",
       "0      1       0       0       0       0       0       0       0       0   \n",
       "1      0       0       0       0       0       0       0       0       0   \n",
       "2      1       0       0       0       0       0       0       0       0   \n",
       "3      4       0       0       0       0       0       0       0       0   \n",
       "4      0       0       0       0       0       0       0       0       0   \n",
       "\n",
       "   pixel8  ...  pixel774  pixel775  pixel776  pixel777  pixel778  pixel779  \\\n",
       "0       0  ...         0         0         0         0         0         0   \n",
       "1       0  ...         0         0         0         0         0         0   \n",
       "2       0  ...         0         0         0         0         0         0   \n",
       "3       0  ...         0         0         0         0         0         0   \n",
       "4       0  ...         0         0         0         0         0         0   \n",
       "\n",
       "   pixel780  pixel781  pixel782  pixel783  \n",
       "0         0         0         0         0  \n",
       "1         0         0         0         0  \n",
       "2         0         0         0         0  \n",
       "3         0         0         0         0  \n",
       "4         0         0         0         0  \n",
       "\n",
       "[5 rows x 785 columns]"
      ]
     },
     "execution_count": 3,
     "metadata": {},
     "output_type": "execute_result"
    }
   ],
   "source": [
    "train_data.head()"
   ]
  },
  {
   "cell_type": "code",
   "execution_count": 4,
   "id": "d403ef64",
   "metadata": {
    "execution": {
     "iopub.execute_input": "2024-04-04T12:32:03.541773Z",
     "iopub.status.busy": "2024-04-04T12:32:03.541427Z",
     "iopub.status.idle": "2024-04-04T12:32:03.558108Z",
     "shell.execute_reply": "2024-04-04T12:32:03.557034Z"
    },
    "papermill": {
     "duration": 0.029586,
     "end_time": "2024-04-04T12:32:03.560390",
     "exception": false,
     "start_time": "2024-04-04T12:32:03.530804",
     "status": "completed"
    },
    "tags": []
   },
   "outputs": [
    {
     "name": "stdout",
     "output_type": "stream",
     "text": [
      "False False\n"
     ]
    }
   ],
   "source": [
    "#checking if there are any nan value in the data frame\n",
    "print(train_data.isna().any().any(),test_data.isna().any().any())"
   ]
  },
  {
   "cell_type": "code",
   "execution_count": 5,
   "id": "1ad4c3f1",
   "metadata": {
    "execution": {
     "iopub.execute_input": "2024-04-04T12:32:03.580123Z",
     "iopub.status.busy": "2024-04-04T12:32:03.579784Z",
     "iopub.status.idle": "2024-04-04T12:32:07.202163Z",
     "shell.execute_reply": "2024-04-04T12:32:07.201352Z"
    },
    "papermill": {
     "duration": 3.634649,
     "end_time": "2024-04-04T12:32:07.204320",
     "exception": false,
     "start_time": "2024-04-04T12:32:03.569671",
     "status": "completed"
    },
    "tags": []
   },
   "outputs": [],
   "source": [
    "import torch\n",
    "from torch.utils.data import Dataset, DataLoader"
   ]
  },
  {
   "cell_type": "code",
   "execution_count": 6,
   "id": "5a6907e4",
   "metadata": {
    "execution": {
     "iopub.execute_input": "2024-04-04T12:32:07.224018Z",
     "iopub.status.busy": "2024-04-04T12:32:07.223557Z",
     "iopub.status.idle": "2024-04-04T12:32:07.532771Z",
     "shell.execute_reply": "2024-04-04T12:32:07.531762Z"
    },
    "papermill": {
     "duration": 0.321441,
     "end_time": "2024-04-04T12:32:07.535051",
     "exception": false,
     "start_time": "2024-04-04T12:32:07.213610",
     "status": "completed"
    },
    "tags": []
   },
   "outputs": [
    {
     "data": {
      "text/plain": [
       "torch.Size([42000, 1, 28, 28])"
      ]
     },
     "execution_count": 6,
     "metadata": {},
     "output_type": "execute_result"
    }
   ],
   "source": [
    "x = train_data.drop(['label'],axis=1)\n",
    "x = torch.tensor(np.array(x))\n",
    "x = x.reshape(-1,28,28).unsqueeze(1)\n",
    "x.shape"
   ]
  },
  {
   "cell_type": "code",
   "execution_count": 7,
   "id": "df5c13dc",
   "metadata": {
    "execution": {
     "iopub.execute_input": "2024-04-04T12:32:07.557012Z",
     "iopub.status.busy": "2024-04-04T12:32:07.556637Z",
     "iopub.status.idle": "2024-04-04T12:32:07.937098Z",
     "shell.execute_reply": "2024-04-04T12:32:07.936050Z"
    },
    "papermill": {
     "duration": 0.394288,
     "end_time": "2024-04-04T12:32:07.939485",
     "exception": false,
     "start_time": "2024-04-04T12:32:07.545197",
     "status": "completed"
    },
    "tags": []
   },
   "outputs": [],
   "source": [
    "targets = np.array(train_data['label'])\n",
    "data = np.array(train_data.drop(['label'],axis=1))\n",
    "        \n",
    "targets = torch.tensor(targets).long()\n",
    "data = torch.tensor(data).to(torch.float64).reshape(-1,28,28).unsqueeze(1)\n",
    "        "
   ]
  },
  {
   "cell_type": "code",
   "execution_count": 8,
   "id": "d63d8dbc",
   "metadata": {
    "execution": {
     "iopub.execute_input": "2024-04-04T12:32:07.959976Z",
     "iopub.status.busy": "2024-04-04T12:32:07.959567Z",
     "iopub.status.idle": "2024-04-04T12:32:07.973625Z",
     "shell.execute_reply": "2024-04-04T12:32:07.972709Z"
    },
    "papermill": {
     "duration": 0.026903,
     "end_time": "2024-04-04T12:32:07.975663",
     "exception": false,
     "start_time": "2024-04-04T12:32:07.948760",
     "status": "completed"
    },
    "tags": []
   },
   "outputs": [
    {
     "data": {
      "text/plain": [
       "(tensor(1), torch.Size([1, 28, 28]))"
      ]
     },
     "execution_count": 8,
     "metadata": {},
     "output_type": "execute_result"
    }
   ],
   "source": [
    "targets[0], data[0].shape"
   ]
  },
  {
   "cell_type": "code",
   "execution_count": 9,
   "id": "abc1d1fb",
   "metadata": {
    "execution": {
     "iopub.execute_input": "2024-04-04T12:32:07.999196Z",
     "iopub.status.busy": "2024-04-04T12:32:07.998792Z",
     "iopub.status.idle": "2024-04-04T12:32:08.005227Z",
     "shell.execute_reply": "2024-04-04T12:32:08.004250Z"
    },
    "papermill": {
     "duration": 0.020328,
     "end_time": "2024-04-04T12:32:08.007562",
     "exception": false,
     "start_time": "2024-04-04T12:32:07.987234",
     "status": "completed"
    },
    "tags": []
   },
   "outputs": [
    {
     "data": {
      "text/plain": [
       "torch.Size([1, 28, 28])"
      ]
     },
     "execution_count": 9,
     "metadata": {},
     "output_type": "execute_result"
    }
   ],
   "source": [
    "y = x[0]\n",
    "y.shape"
   ]
  },
  {
   "cell_type": "code",
   "execution_count": 10,
   "id": "9f00b17a",
   "metadata": {
    "execution": {
     "iopub.execute_input": "2024-04-04T12:32:08.029396Z",
     "iopub.status.busy": "2024-04-04T12:32:08.028684Z",
     "iopub.status.idle": "2024-04-04T12:32:08.034452Z",
     "shell.execute_reply": "2024-04-04T12:32:08.033548Z"
    },
    "papermill": {
     "duration": 0.018683,
     "end_time": "2024-04-04T12:32:08.036343",
     "exception": false,
     "start_time": "2024-04-04T12:32:08.017660",
     "status": "completed"
    },
    "tags": []
   },
   "outputs": [],
   "source": [
    "import matplotlib.pyplot as plt\n",
    "def show_img(x,label=-1):\n",
    "    if len(x.shape) > 2:\n",
    "        x = x.squeeze(0).squeeze(0)\n",
    "    plt.imshow(x,cmap='gray')\n",
    "    plt.axis('off')\n",
    "    if label != -1 : plt.title(label)\n",
    "    plt.show()"
   ]
  },
  {
   "cell_type": "code",
   "execution_count": 11,
   "id": "972f2fb9",
   "metadata": {
    "execution": {
     "iopub.execute_input": "2024-04-04T12:32:08.058071Z",
     "iopub.status.busy": "2024-04-04T12:32:08.057235Z",
     "iopub.status.idle": "2024-04-04T12:32:08.161509Z",
     "shell.execute_reply": "2024-04-04T12:32:08.159788Z"
    },
    "papermill": {
     "duration": 0.121354,
     "end_time": "2024-04-04T12:32:08.167444",
     "exception": false,
     "start_time": "2024-04-04T12:32:08.046090",
     "status": "completed"
    },
    "tags": []
   },
   "outputs": [
    {
     "data": {
      "image/png": "[encoded data removed]",
      "text/plain": [
       "<Figure size 640x480 with 1 Axes>"
      ]
     },
     "metadata": {},
     "output_type": "display_data"
    }
   ],
   "source": [
    "x[0].shape\n",
    "show_img(x[900])"
   ]
  },
  {
   "cell_type": "markdown",
   "id": "ce0be209",
   "metadata": {
    "papermill": {
     "duration": 0.021933,
     "end_time": "2024-04-04T12:32:08.212058",
     "exception": false,
     "start_time": "2024-04-04T12:32:08.190125",
     "status": "completed"
    },
    "tags": []
   },
   "source": [
    "# Creating custom dataset"
   ]
  },
  {
   "cell_type": "code",
   "execution_count": 12,
   "id": "75afe802",
   "metadata": {
    "execution": {
     "iopub.execute_input": "2024-04-04T12:32:08.251502Z",
     "iopub.status.busy": "2024-04-04T12:32:08.251118Z",
     "iopub.status.idle": "2024-04-04T12:32:08.258495Z",
     "shell.execute_reply": "2024-04-04T12:32:08.257529Z"
    },
    "papermill": {
     "duration": 0.025922,
     "end_time": "2024-04-04T12:32:08.260404",
     "exception": false,
     "start_time": "2024-04-04T12:32:08.234482",
     "status": "completed"
    },
    "tags": []
   },
   "outputs": [],
   "source": [
    "class CustomDataset(Dataset):\n",
    "    def __init__(self,train_dataframe):\n",
    "\n",
    "        self.targets = np.array(train_dataframe['label'])\n",
    "        self.data = np.array(train_dataframe.drop(['label'],axis=1))\n",
    "            \n",
    "        self.targets = torch.tensor(self.targets).long()\n",
    "        self.data = torch.tensor(self.data).float().reshape(-1,28,28).unsqueeze(1)\n",
    "\n",
    "\n",
    "    def __len__(self):\n",
    "        return len(self.data)\n",
    "\n",
    "    def __getitem__(self, idx):\n",
    "        # Get data sample and corresponding target\n",
    "        sample = self.data[idx]\n",
    "        target = self.targets[idx]\n",
    "        return sample, target\n"
   ]
  },
  {
   "cell_type": "code",
   "execution_count": 13,
   "id": "c9524fff",
   "metadata": {
    "execution": {
     "iopub.execute_input": "2024-04-04T12:32:08.282030Z",
     "iopub.status.busy": "2024-04-04T12:32:08.281667Z",
     "iopub.status.idle": "2024-04-04T12:32:08.350954Z",
     "shell.execute_reply": "2024-04-04T12:32:08.349972Z"
    },
    "papermill": {
     "duration": 0.082914,
     "end_time": "2024-04-04T12:32:08.353447",
     "exception": false,
     "start_time": "2024-04-04T12:32:08.270533",
     "status": "completed"
    },
    "tags": []
   },
   "outputs": [],
   "source": [
    "test_custom_dataset = CustomDataset(test_data)\n",
    "test_loader = DataLoader(test_custom_dataset, batch_size=4, pin_memory=True)#, shuffle=shuffle, num_workers=num_workers)"
   ]
  },
  {
   "cell_type": "code",
   "execution_count": 14,
   "id": "593cbeab",
   "metadata": {
    "execution": {
     "iopub.execute_input": "2024-04-04T12:32:08.376001Z",
     "iopub.status.busy": "2024-04-04T12:32:08.375130Z",
     "iopub.status.idle": "2024-04-04T12:32:08.711725Z",
     "shell.execute_reply": "2024-04-04T12:32:08.710658Z"
    },
    "papermill": {
     "duration": 0.349925,
     "end_time": "2024-04-04T12:32:08.714095",
     "exception": false,
     "start_time": "2024-04-04T12:32:08.364170",
     "status": "completed"
    },
    "tags": []
   },
   "outputs": [],
   "source": [
    "custom_dataset = CustomDataset(train_data)\n",
    "batch_size = 4\n",
    "# shuffle = False  # Set to True if you want to shuffle your data\n",
    "# num_workers = 1  # Number of subprocesses to use for data loading\n",
    "\n",
    "custom_dataloader = DataLoader(custom_dataset, batch_size=batch_size, pin_memory=True)#, shuffle=shuffle, num_workers=num_workers)"
   ]
  },
  {
   "cell_type": "code",
   "execution_count": 15,
   "id": "a10476d1",
   "metadata": {
    "execution": {
     "iopub.execute_input": "2024-04-04T12:32:08.736704Z",
     "iopub.status.busy": "2024-04-04T12:32:08.736340Z",
     "iopub.status.idle": "2024-04-04T12:32:08.939524Z",
     "shell.execute_reply": "2024-04-04T12:32:08.938565Z"
    },
    "papermill": {
     "duration": 0.216291,
     "end_time": "2024-04-04T12:32:08.941879",
     "exception": false,
     "start_time": "2024-04-04T12:32:08.725588",
     "status": "completed"
    },
    "tags": []
   },
   "outputs": [
    {
     "name": "stdout",
     "output_type": "stream",
     "text": [
      "Batch data type: <class 'torch.Tensor'>\n",
      "Batch target type: <class 'torch.Tensor'>\n",
      "Batch data shape: torch.Size([4, 1, 28, 28])\n",
      "Batch target shape: torch.Size([4])\n",
      "Batch data shape: torch.float32\n"
     ]
    }
   ],
   "source": [
    "for batch_data, batch_targets in custom_dataloader:\n",
    "    print(\"Batch data type:\", type(batch_data))\n",
    "    print(\"Batch target type:\", type(batch_targets))\n",
    "    print(\"Batch data shape:\", batch_data.shape)\n",
    "    print(\"Batch target shape:\", batch_targets.shape)\n",
    "    print(\"Batch data shape:\", batch_data.dtype)\n",
    "    break  "
   ]
  },
  {
   "cell_type": "markdown",
   "id": "579ffc8a",
   "metadata": {
    "papermill": {
     "duration": 0.009413,
     "end_time": "2024-04-04T12:32:08.960936",
     "exception": false,
     "start_time": "2024-04-04T12:32:08.951523",
     "status": "completed"
    },
    "tags": []
   },
   "source": [
    "# Creating a model"
   ]
  },
  {
   "cell_type": "code",
   "execution_count": 16,
   "id": "4d2bd663",
   "metadata": {
    "execution": {
     "iopub.execute_input": "2024-04-04T12:32:08.981683Z",
     "iopub.status.busy": "2024-04-04T12:32:08.981207Z",
     "iopub.status.idle": "2024-04-04T12:32:08.986914Z",
     "shell.execute_reply": "2024-04-04T12:32:08.985952Z"
    },
    "papermill": {
     "duration": 0.018617,
     "end_time": "2024-04-04T12:32:08.989029",
     "exception": false,
     "start_time": "2024-04-04T12:32:08.970412",
     "status": "completed"
    },
    "tags": []
   },
   "outputs": [],
   "source": [
    "import torch.nn as nn"
   ]
  },
  {
   "cell_type": "code",
   "execution_count": 17,
   "id": "7bc4b682",
   "metadata": {
    "execution": {
     "iopub.execute_input": "2024-04-04T12:32:09.011854Z",
     "iopub.status.busy": "2024-04-04T12:32:09.011091Z",
     "iopub.status.idle": "2024-04-04T12:32:09.143198Z",
     "shell.execute_reply": "2024-04-04T12:32:09.142238Z"
    },
    "papermill": {
     "duration": 0.145938,
     "end_time": "2024-04-04T12:32:09.145352",
     "exception": false,
     "start_time": "2024-04-04T12:32:08.999414",
     "status": "completed"
    },
    "tags": []
   },
   "outputs": [
    {
     "data": {
      "text/plain": [
       "tensor([[0.1176, 0.0579, 0.0882, 0.0832, 0.0367, 0.1676, 0.1248, 0.2542, 0.0504,\n",
       "         0.0193]], grad_fn=<SoftmaxBackward0>)"
      ]
     },
     "execution_count": 17,
     "metadata": {},
     "output_type": "execute_result"
    }
   ],
   "source": [
    "class mnist_model(nn.Module):\n",
    "    def __init__(self):\n",
    "        super(mnist_model,self).__init__()\n",
    "        self.conv1 = nn.Conv2d(in_channels=1,out_channels=2,kernel_size=3,stride=1)\n",
    "        self.batch_norm1 = nn.BatchNorm2d(2)\n",
    "        self.conv2 = nn.Conv2d(in_channels=2,out_channels=4,kernel_size=3,stride=1)\n",
    "        self.batch_norm2 = nn.BatchNorm2d(4)\n",
    "        self.pool = nn.MaxPool2d(kernel_size=2, stride=2)\n",
    "\n",
    "        self.in_value = 4*5*5\n",
    "        self.lin = nn.Linear(self.in_value,10)\n",
    "        self.relu = nn.ReLU(inplace=True)\n",
    "        self.soft_max = nn.Softmax(dim=1)\n",
    "\n",
    "    def forward(self,x):\n",
    "        x = self.conv1(x)\n",
    "        x = self.relu(x)\n",
    "        x = self.batch_norm1(x)\n",
    "        x = self.pool(x)\n",
    "\n",
    "        x = self.conv2(x)\n",
    "        x = self.relu(x)\n",
    "        x = self.batch_norm2(x)\n",
    "        x = self.pool(x)\n",
    "\n",
    "        x = x.view(-1,self.in_value)\n",
    "        x = self.lin(x)\n",
    "\n",
    "        return self.soft_max(x)\n",
    "\n",
    "\n",
    "    pass\n",
    "\n",
    "x = torch.rand(1,1,28,28)\n",
    "model = mnist_model()\n",
    "y = model(x)\n",
    "y"
   ]
  },
  {
   "cell_type": "markdown",
   "id": "49818df6",
   "metadata": {
    "papermill": {
     "duration": 0.009833,
     "end_time": "2024-04-04T12:32:09.165228",
     "exception": false,
     "start_time": "2024-04-04T12:32:09.155395",
     "status": "completed"
    },
    "tags": []
   },
   "source": [
    "# Training the model"
   ]
  },
  {
   "cell_type": "code",
   "execution_count": 18,
   "id": "9309fbb6",
   "metadata": {
    "execution": {
     "iopub.execute_input": "2024-04-04T12:32:09.186293Z",
     "iopub.status.busy": "2024-04-04T12:32:09.185951Z",
     "iopub.status.idle": "2024-04-04T12:32:09.190147Z",
     "shell.execute_reply": "2024-04-04T12:32:09.189287Z"
    },
    "papermill": {
     "duration": 0.017037,
     "end_time": "2024-04-04T12:32:09.192058",
     "exception": false,
     "start_time": "2024-04-04T12:32:09.175021",
     "status": "completed"
    },
    "tags": []
   },
   "outputs": [],
   "source": [
    "from tqdm import tqdm\n",
    "from torch.optim import Adam"
   ]
  },
  {
   "cell_type": "code",
   "execution_count": 19,
   "id": "2f0a5a9c",
   "metadata": {
    "execution": {
     "iopub.execute_input": "2024-04-04T12:32:09.213066Z",
     "iopub.status.busy": "2024-04-04T12:32:09.212771Z",
     "iopub.status.idle": "2024-04-04T12:32:09.219559Z",
     "shell.execute_reply": "2024-04-04T12:32:09.218666Z"
    },
    "papermill": {
     "duration": 0.019652,
     "end_time": "2024-04-04T12:32:09.221645",
     "exception": false,
     "start_time": "2024-04-04T12:32:09.201993",
     "status": "completed"
    },
    "tags": []
   },
   "outputs": [
    {
     "data": {
      "text/plain": [
       "device(type='cuda')"
      ]
     },
     "execution_count": 19,
     "metadata": {},
     "output_type": "execute_result"
    }
   ],
   "source": [
    "if torch.cuda.is_available():\n",
    "    device = torch.device('cuda')\n",
    "elif torch.backends.mps.is_available():\n",
    "    device = torch.device('mps')\n",
    "else: device = torch.device('cpu')\n",
    "device"
   ]
  },
  {
   "cell_type": "code",
   "execution_count": 20,
   "id": "4680fb69",
   "metadata": {
    "execution": {
     "iopub.execute_input": "2024-04-04T12:32:09.242599Z",
     "iopub.status.busy": "2024-04-04T12:32:09.242279Z",
     "iopub.status.idle": "2024-04-04T13:47:59.352202Z",
     "shell.execute_reply": "2024-04-04T13:47:59.351111Z"
    },
    "papermill": {
     "duration": 4550.123199,
     "end_time": "2024-04-04T13:47:59.354647",
     "exception": false,
     "start_time": "2024-04-04T12:32:09.231448",
     "status": "completed"
    },
    "tags": []
   },
   "outputs": [
    {
     "name": "stderr",
     "output_type": "stream",
     "text": [
      "100%|██████████| 200/200 [1:15:48<00:00, 22.74s/it]\n"
     ]
    },
    {
     "name": "stdout",
     "output_type": "stream",
     "text": [
      "Accuracy on the test set: 97.56%\n"
     ]
    }
   ],
   "source": [
    "epoches = 200\n",
    "\n",
    "model = mnist_model().to(device)\n",
    "criterion = nn.CrossEntropyLoss()\n",
    "optimizer = Adam(model.parameters(), lr=0.001)\n",
    "\n",
    "# Training loop\n",
    "for epoch in tqdm(range(epoches)):\n",
    "    model.train()\n",
    "\n",
    "    running_loss = 0.0\n",
    "    for data, target in custom_dataloader:\n",
    "        data = data.to(device)\n",
    "        target = target.to(device)\n",
    "        \n",
    "        optimizer.zero_grad()\n",
    "        output = model(data)\n",
    "        loss = criterion(output, target)\n",
    "        loss.backward()\n",
    "        optimizer.step()\n",
    "        running_loss += loss.item()\n",
    "\n",
    "# Evaluate the model on the test set\n",
    "model.eval()\n",
    "correct = 0\n",
    "total = 0\n",
    "with torch.no_grad():\n",
    "    for data, target in test_loader:\n",
    "        data = data.to(device)\n",
    "        target = target.to(device)\n",
    "        \n",
    "        output = model(data)\n",
    "        _, predicted = torch.max(output.data, 1)\n",
    "        total += target.size(0)\n",
    "        correct += (predicted == target).sum().item()\n",
    "\n",
    "print(f'Accuracy on the test set: {100 * correct / total:.2f}%')\n"
   ]
  },
  {
   "cell_type": "code",
   "execution_count": 21,
   "id": "91b63356",
   "metadata": {
    "execution": {
     "iopub.execute_input": "2024-04-04T13:47:59.408513Z",
     "iopub.status.busy": "2024-04-04T13:47:59.408143Z",
     "iopub.status.idle": "2024-04-04T13:48:01.783316Z",
     "shell.execute_reply": "2024-04-04T13:48:01.782243Z"
    },
    "papermill": {
     "duration": 2.40491,
     "end_time": "2024-04-04T13:48:01.785841",
     "exception": false,
     "start_time": "2024-04-04T13:47:59.380931",
     "status": "completed"
    },
    "tags": []
   },
   "outputs": [
    {
     "data": {
      "text/html": [
       "<div>\n",
       "<style scoped>\n",
       "    .dataframe tbody tr th:only-of-type {\n",
       "        vertical-align: middle;\n",
       "    }\n",
       "\n",
       "    .dataframe tbody tr th {\n",
       "        vertical-align: top;\n",
       "    }\n",
       "\n",
       "    .dataframe thead th {\n",
       "        text-align: right;\n",
       "    }\n",
       "</style>\n",
       "<table border=\"1\" class=\"dataframe\">\n",
       "  <thead>\n",
       "    <tr style=\"text-align: right;\">\n",
       "      <th></th>\n",
       "      <th>pixel0</th>\n",
       "      <th>pixel1</th>\n",
       "      <th>pixel2</th>\n",
       "      <th>pixel3</th>\n",
       "      <th>pixel4</th>\n",
       "      <th>pixel5</th>\n",
       "      <th>pixel6</th>\n",
       "      <th>pixel7</th>\n",
       "      <th>pixel8</th>\n",
       "      <th>pixel9</th>\n",
       "      <th>...</th>\n",
       "      <th>pixel774</th>\n",
       "      <th>pixel775</th>\n",
       "      <th>pixel776</th>\n",
       "      <th>pixel777</th>\n",
       "      <th>pixel778</th>\n",
       "      <th>pixel779</th>\n",
       "      <th>pixel780</th>\n",
       "      <th>pixel781</th>\n",
       "      <th>pixel782</th>\n",
       "      <th>pixel783</th>\n",
       "    </tr>\n",
       "  </thead>\n",
       "  <tbody>\n",
       "    <tr>\n",
       "      <th>0</th>\n",
       "      <td>0</td>\n",
       "      <td>0</td>\n",
       "      <td>0</td>\n",
       "      <td>0</td>\n",
       "      <td>0</td>\n",
       "      <td>0</td>\n",
       "      <td>0</td>\n",
       "      <td>0</td>\n",
       "      <td>0</td>\n",
       "      <td>0</td>\n",
       "      <td>...</td>\n",
       "      <td>0</td>\n",
       "      <td>0</td>\n",
       "      <td>0</td>\n",
       "      <td>0</td>\n",
       "      <td>0</td>\n",
       "      <td>0</td>\n",
       "      <td>0</td>\n",
       "      <td>0</td>\n",
       "      <td>0</td>\n",
       "      <td>0</td>\n",
       "    </tr>\n",
       "    <tr>\n",
       "      <th>1</th>\n",
       "      <td>0</td>\n",
       "      <td>0</td>\n",
       "      <td>0</td>\n",
       "      <td>0</td>\n",
       "      <td>0</td>\n",
       "      <td>0</td>\n",
       "      <td>0</td>\n",
       "      <td>0</td>\n",
       "      <td>0</td>\n",
       "      <td>0</td>\n",
       "      <td>...</td>\n",
       "      <td>0</td>\n",
       "      <td>0</td>\n",
       "      <td>0</td>\n",
       "      <td>0</td>\n",
       "      <td>0</td>\n",
       "      <td>0</td>\n",
       "      <td>0</td>\n",
       "      <td>0</td>\n",
       "      <td>0</td>\n",
       "      <td>0</td>\n",
       "    </tr>\n",
       "    <tr>\n",
       "      <th>2</th>\n",
       "      <td>0</td>\n",
       "      <td>0</td>\n",
       "      <td>0</td>\n",
       "      <td>0</td>\n",
       "      <td>0</td>\n",
       "      <td>0</td>\n",
       "      <td>0</td>\n",
       "      <td>0</td>\n",
       "      <td>0</td>\n",
       "      <td>0</td>\n",
       "      <td>...</td>\n",
       "      <td>0</td>\n",
       "      <td>0</td>\n",
       "      <td>0</td>\n",
       "      <td>0</td>\n",
       "      <td>0</td>\n",
       "      <td>0</td>\n",
       "      <td>0</td>\n",
       "      <td>0</td>\n",
       "      <td>0</td>\n",
       "      <td>0</td>\n",
       "    </tr>\n",
       "    <tr>\n",
       "      <th>3</th>\n",
       "      <td>0</td>\n",
       "      <td>0</td>\n",
       "      <td>0</td>\n",
       "      <td>0</td>\n",
       "      <td>0</td>\n",
       "      <td>0</td>\n",
       "      <td>0</td>\n",
       "      <td>0</td>\n",
       "      <td>0</td>\n",
       "      <td>0</td>\n",
       "      <td>...</td>\n",
       "      <td>0</td>\n",
       "      <td>0</td>\n",
       "      <td>0</td>\n",
       "      <td>0</td>\n",
       "      <td>0</td>\n",
       "      <td>0</td>\n",
       "      <td>0</td>\n",
       "      <td>0</td>\n",
       "      <td>0</td>\n",
       "      <td>0</td>\n",
       "    </tr>\n",
       "    <tr>\n",
       "      <th>4</th>\n",
       "      <td>0</td>\n",
       "      <td>0</td>\n",
       "      <td>0</td>\n",
       "      <td>0</td>\n",
       "      <td>0</td>\n",
       "      <td>0</td>\n",
       "      <td>0</td>\n",
       "      <td>0</td>\n",
       "      <td>0</td>\n",
       "      <td>0</td>\n",
       "      <td>...</td>\n",
       "      <td>0</td>\n",
       "      <td>0</td>\n",
       "      <td>0</td>\n",
       "      <td>0</td>\n",
       "      <td>0</td>\n",
       "      <td>0</td>\n",
       "      <td>0</td>\n",
       "      <td>0</td>\n",
       "      <td>0</td>\n",
       "      <td>0</td>\n",
       "    </tr>\n",
       "  </tbody>\n",
       "</table>\n",
       "<p>5 rows × 784 columns</p>\n",
       "</div>"
      ],
      "text/plain": [
       "   pixel0  pixel1  pixel2  pixel3  pixel4  pixel5  pixel6  pixel7  pixel8  \\\n",
       "0       0       0       0       0       0       0       0       0       0   \n",
       "1       0       0       0       0       0       0       0       0       0   \n",
       "2       0       0       0       0       0       0       0       0       0   \n",
       "3       0       0       0       0       0       0       0       0       0   \n",
       "4       0       0       0       0       0       0       0       0       0   \n",
       "\n",
       "   pixel9  ...  pixel774  pixel775  pixel776  pixel777  pixel778  pixel779  \\\n",
       "0       0  ...         0         0         0         0         0         0   \n",
       "1       0  ...         0         0         0         0         0         0   \n",
       "2       0  ...         0         0         0         0         0         0   \n",
       "3       0  ...         0         0         0         0         0         0   \n",
       "4       0  ...         0         0         0         0         0         0   \n",
       "\n",
       "   pixel780  pixel781  pixel782  pixel783  \n",
       "0         0         0         0         0  \n",
       "1         0         0         0         0  \n",
       "2         0         0         0         0  \n",
       "3         0         0         0         0  \n",
       "4         0         0         0         0  \n",
       "\n",
       "[5 rows x 784 columns]"
      ]
     },
     "execution_count": 21,
     "metadata": {},
     "output_type": "execute_result"
    }
   ],
   "source": [
    "pre_datafame = pd.read_csv('/kaggle/input/digit-recognizer/test.csv')\n",
    "pre_datafame.head()"
   ]
  },
  {
   "cell_type": "code",
   "execution_count": 22,
   "id": "8d218627",
   "metadata": {
    "execution": {
     "iopub.execute_input": "2024-04-04T13:48:01.843433Z",
     "iopub.status.busy": "2024-04-04T13:48:01.843052Z",
     "iopub.status.idle": "2024-04-04T13:48:02.028388Z",
     "shell.execute_reply": "2024-04-04T13:48:02.027253Z"
    },
    "papermill": {
     "duration": 0.216498,
     "end_time": "2024-04-04T13:48:02.031140",
     "exception": false,
     "start_time": "2024-04-04T13:48:01.814642",
     "status": "completed"
    },
    "tags": []
   },
   "outputs": [],
   "source": [
    "X = torch.tensor(np.array(pre_datafame)).float().reshape(-1,28,28).unsqueeze(1)"
   ]
  },
  {
   "cell_type": "code",
   "execution_count": 23,
   "id": "4405423a",
   "metadata": {
    "execution": {
     "iopub.execute_input": "2024-04-04T13:48:02.107184Z",
     "iopub.status.busy": "2024-04-04T13:48:02.106704Z",
     "iopub.status.idle": "2024-04-04T13:48:02.114917Z",
     "shell.execute_reply": "2024-04-04T13:48:02.113695Z"
    },
    "papermill": {
     "duration": 0.055825,
     "end_time": "2024-04-04T13:48:02.117498",
     "exception": false,
     "start_time": "2024-04-04T13:48:02.061673",
     "status": "completed"
    },
    "tags": []
   },
   "outputs": [
    {
     "data": {
      "text/plain": [
       "torch.Size([28000, 1, 28, 28])"
      ]
     },
     "execution_count": 23,
     "metadata": {},
     "output_type": "execute_result"
    }
   ],
   "source": [
    "X.shape"
   ]
  },
  {
   "cell_type": "markdown",
   "id": "6f1caf1c",
   "metadata": {
    "papermill": {
     "duration": 0.027776,
     "end_time": "2024-04-04T13:48:02.178590",
     "exception": false,
     "start_time": "2024-04-04T13:48:02.150814",
     "status": "completed"
    },
    "tags": []
   },
   "source": [
    "## submission"
   ]
  },
  {
   "cell_type": "code",
   "execution_count": 24,
   "id": "06d10140",
   "metadata": {
    "execution": {
     "iopub.execute_input": "2024-04-04T13:48:02.235267Z",
     "iopub.status.busy": "2024-04-04T13:48:02.234285Z",
     "iopub.status.idle": "2024-04-04T13:48:02.277616Z",
     "shell.execute_reply": "2024-04-04T13:48:02.276699Z"
    },
    "papermill": {
     "duration": 0.074342,
     "end_time": "2024-04-04T13:48:02.279989",
     "exception": false,
     "start_time": "2024-04-04T13:48:02.205647",
     "status": "completed"
    },
    "tags": []
   },
   "outputs": [],
   "source": [
    "i = 10289\n",
    "y = model(X.to(device))\n",
    "_, predicted = torch.max(y.data, 1)\n",
    "# show_img(X[i],label=predicted)"
   ]
  },
  {
   "cell_type": "code",
   "execution_count": 25,
   "id": "cb52a8ce",
   "metadata": {
    "execution": {
     "iopub.execute_input": "2024-04-04T13:48:02.337738Z",
     "iopub.status.busy": "2024-04-04T13:48:02.337311Z",
     "iopub.status.idle": "2024-04-04T13:48:02.344773Z",
     "shell.execute_reply": "2024-04-04T13:48:02.343807Z"
    },
    "papermill": {
     "duration": 0.038832,
     "end_time": "2024-04-04T13:48:02.347061",
     "exception": false,
     "start_time": "2024-04-04T13:48:02.308229",
     "status": "completed"
    },
    "tags": []
   },
   "outputs": [
    {
     "data": {
      "text/plain": [
       "array([2, 0, 9, ..., 3, 9, 2])"
      ]
     },
     "execution_count": 25,
     "metadata": {},
     "output_type": "execute_result"
    }
   ],
   "source": [
    "# _, predicted = torch.max(y.data, 1)\n",
    "predicted = predicted.to('cpu').numpy()\n",
    "predicted"
   ]
  },
  {
   "cell_type": "code",
   "execution_count": 26,
   "id": "c1828618",
   "metadata": {
    "execution": {
     "iopub.execute_input": "2024-04-04T13:48:02.406202Z",
     "iopub.status.busy": "2024-04-04T13:48:02.405793Z",
     "iopub.status.idle": "2024-04-04T13:48:02.412408Z",
     "shell.execute_reply": "2024-04-04T13:48:02.411486Z"
    },
    "papermill": {
     "duration": 0.037487,
     "end_time": "2024-04-04T13:48:02.414658",
     "exception": false,
     "start_time": "2024-04-04T13:48:02.377171",
     "status": "completed"
    },
    "tags": []
   },
   "outputs": [
    {
     "data": {
      "text/plain": [
       "28000"
      ]
     },
     "execution_count": 26,
     "metadata": {},
     "output_type": "execute_result"
    }
   ],
   "source": [
    "len(predicted)"
   ]
  },
  {
   "cell_type": "code",
   "execution_count": 27,
   "id": "972c1d67",
   "metadata": {
    "execution": {
     "iopub.execute_input": "2024-04-04T13:48:02.472595Z",
     "iopub.status.busy": "2024-04-04T13:48:02.471719Z",
     "iopub.status.idle": "2024-04-04T13:48:02.483018Z",
     "shell.execute_reply": "2024-04-04T13:48:02.481953Z"
    },
    "papermill": {
     "duration": 0.04261,
     "end_time": "2024-04-04T13:48:02.485383",
     "exception": false,
     "start_time": "2024-04-04T13:48:02.442773",
     "status": "completed"
    },
    "tags": []
   },
   "outputs": [
    {
     "data": {
      "text/html": [
       "<div>\n",
       "<style scoped>\n",
       "    .dataframe tbody tr th:only-of-type {\n",
       "        vertical-align: middle;\n",
       "    }\n",
       "\n",
       "    .dataframe tbody tr th {\n",
       "        vertical-align: top;\n",
       "    }\n",
       "\n",
       "    .dataframe thead th {\n",
       "        text-align: right;\n",
       "    }\n",
       "</style>\n",
       "<table border=\"1\" class=\"dataframe\">\n",
       "  <thead>\n",
       "    <tr style=\"text-align: right;\">\n",
       "      <th></th>\n",
       "      <th>Label</th>\n",
       "    </tr>\n",
       "  </thead>\n",
       "  <tbody>\n",
       "    <tr>\n",
       "      <th>0</th>\n",
       "      <td>2</td>\n",
       "    </tr>\n",
       "    <tr>\n",
       "      <th>1</th>\n",
       "      <td>0</td>\n",
       "    </tr>\n",
       "    <tr>\n",
       "      <th>2</th>\n",
       "      <td>9</td>\n",
       "    </tr>\n",
       "    <tr>\n",
       "      <th>3</th>\n",
       "      <td>9</td>\n",
       "    </tr>\n",
       "    <tr>\n",
       "      <th>4</th>\n",
       "      <td>3</td>\n",
       "    </tr>\n",
       "  </tbody>\n",
       "</table>\n",
       "</div>"
      ],
      "text/plain": [
       "   Label\n",
       "0      2\n",
       "1      0\n",
       "2      9\n",
       "3      9\n",
       "4      3"
      ]
     },
     "execution_count": 27,
     "metadata": {},
     "output_type": "execute_result"
    }
   ],
   "source": [
    "pre = predicted.astype(int)\n",
    "df = pd.DataFrame(pre,columns=['Label'])\n",
    "df.head()"
   ]
  },
  {
   "cell_type": "code",
   "execution_count": 28,
   "id": "23c0e722",
   "metadata": {
    "execution": {
     "iopub.execute_input": "2024-04-04T13:48:02.542959Z",
     "iopub.status.busy": "2024-04-04T13:48:02.542254Z",
     "iopub.status.idle": "2024-04-04T13:48:02.609399Z",
     "shell.execute_reply": "2024-04-04T13:48:02.608573Z"
    },
    "papermill": {
     "duration": 0.098987,
     "end_time": "2024-04-04T13:48:02.611821",
     "exception": false,
     "start_time": "2024-04-04T13:48:02.512834",
     "status": "completed"
    },
    "tags": []
   },
   "outputs": [],
   "source": [
    "df.to_csv('prediction.csv',index_label='ImageId', index=True)"
   ]
  }
 ],
 "metadata": {
  "kaggle": {
   "accelerator": "gpu",
   "dataSources": [
    {
     "databundleVersionId": 861823,
     "sourceId": 3004,
     "sourceType": "competition"
    }
   ],
   "dockerImageVersionId": 30588,
   "isGpuEnabled": true,
   "isInternetEnabled": true,
   "language": "python",
   "sourceType": "notebook"
  },
  "kernelspec": {
   "display_name": "Python 3",
   "language": "python",
   "name": "python3"
  },
  "language_info": {
   "codemirror_mode": {
    "name": "ipython",
    "version": 3
   },
   "file_extension": ".py",
   "mimetype": "text/x-python",
   "name": "python",
   "nbconvert_exporter": "python",
   "pygments_lexer": "ipython3",
   "version": "3.10.12"
  },
  "papermill": {
   "default_parameters": {},
   "duration": 4569.585922,
   "end_time": "2024-04-04T13:48:04.841808",
   "environment_variables": {},
   "exception": null,
   "input_path": "__notebook__.ipynb",
   "output_path": "__notebook__.ipynb",
   "parameters": {},
   "start_time": "2024-04-04T12:31:55.255886",
   "version": "2.4.0"
  }
 },
 "nbformat": 4,
 "nbformat_minor": 5
}
